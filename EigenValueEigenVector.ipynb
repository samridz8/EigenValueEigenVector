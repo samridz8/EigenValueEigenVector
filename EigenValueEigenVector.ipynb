{
  "nbformat": 4,
  "nbformat_minor": 0,
  "metadata": {
    "colab": {
      "provenance": [],
      "authorship_tag": "ABX9TyOsCtNDZDGCppuJS4vlq/WP",
      "include_colab_link": true
    },
    "kernelspec": {
      "name": "python3",
      "display_name": "Python 3"
    },
    "language_info": {
      "name": "python"
    }
  },
  "cells": [
    {
      "cell_type": "markdown",
      "metadata": {
        "id": "view-in-github",
        "colab_type": "text"
      },
      "source": [
        "<a href=\"https://colab.research.google.com/github/samridz8/EigenValueEigenVector/blob/main/EigenValueEigenVector.ipynb\" target=\"_parent\"><img src=\"https://colab.research.google.com/assets/colab-badge.svg\" alt=\"Open In Colab\"/></a>"
      ]
    },
    {
      "cell_type": "code",
      "execution_count": null,
      "metadata": {
        "colab": {
          "base_uri": "https://localhost:8080/"
        },
        "id": "SMkHHxfPh7gQ",
        "outputId": "b41538ea-8ac7-4094-9bb4-f8e6a806daf6"
      },
      "outputs": [
        {
          "output_type": "stream",
          "name": "stdout",
          "text": [
            "7 [0.71428571 1.         0.71428571]\n",
            "6.428571428571429 [0.6 1.  0.6]\n",
            "6.199999999999999 [0.5483871 1.        0.5483871]\n",
            "6.096774193548388 [0.52380952 1.         0.52380952]\n",
            "6.0476190476190474 [0.51181102 1.         0.51181102]\n",
            "6.0236220472440944 [0.50588235 1.         0.50588235]\n",
            "6.011764705882353 [0.50293542 1.         0.50293542]\n",
            "6.00587084148728 [0.50146628 1.         0.50146628]\n",
            "6.002932551319649 [0.50073278 1.         0.50073278]\n",
            "6.001465559355154 [0.5003663 1.        0.5003663]\n",
            "eigenvalue: 6.001465559355154\n",
            "eigenvector: [0.5003663 1.        0.5003663]\n"
          ]
        }
      ],
      "source": [
        "import numpy as np\n",
        "def normalize(x):\n",
        "    fac = abs(x).max()\n",
        "    x_n = x /fac\n",
        "    return fac, x_n\n",
        "x = np.array([1,1,1])\n",
        "a = np.array([[1,1,3],(1,5,1),(3,1,1)])\n",
        "\n",
        "for i in range(10):\n",
        "    x = np.dot(a,x)\n",
        "    lambda_1, x = normalize(x)\n",
        "    print(lambda_1,x)\n",
        "print('eigenvalue:',lambda_1)\n",
        "print('eigenvector:',x)"
      ]
    },
    {
      "cell_type": "code",
      "source": [
        "import numpy as np\n",
        "I = np.array([[1,-3,3],[3,-5,3],[6,-6,4]])\n",
        "print(\"\\n Given matrix: \\n\", I)\n",
        "w,v = np.linalg.eig(I)\n",
        "print(\"\\n Eigen values: \\n\", w)\n",
        "print(\"\\n Eigen vector:\\n\", v)"
      ],
      "metadata": {
        "colab": {
          "base_uri": "https://localhost:8080/"
        },
        "id": "FX5tLGoCpn5v",
        "outputId": "bf6e0294-c6e4-4a6c-c947-7d9aa220ec9d"
      },
      "execution_count": null,
      "outputs": [
        {
          "output_type": "stream",
          "name": "stdout",
          "text": [
            "\n",
            " Given matrix: \n",
            " [[ 1 -3  3]\n",
            " [ 3 -5  3]\n",
            " [ 6 -6  4]]\n",
            "\n",
            " Eigen values: \n",
            " [ 4.+0.00000000e+00j -2.+1.10465796e-15j -2.-1.10465796e-15j]\n",
            "\n",
            " Eigen vector:\n",
            " [[-0.40824829+0.j          0.24400118-0.40702229j  0.24400118+0.40702229j]\n",
            " [-0.40824829+0.j         -0.41621909-0.40702229j -0.41621909+0.40702229j]\n",
            " [-0.81649658+0.j         -0.66022027+0.j         -0.66022027-0.j        ]]\n"
          ]
        }
      ]
    },
    {
      "cell_type": "code",
      "source": [
        "f1 = lambda x,y,z: (17-y+2*z)/20\n",
        "f2 = lambda x,y,z: (-18-3*x+z)/20\n",
        "f3 = lambda x,y,z: (25-2*x+3*y)/20\n",
        "\n",
        "x0 = 0\n",
        "y0 = 0\n",
        "z0 = 0\n",
        "count= 1\n",
        "e= float(input('Enter tolerable error: '))\n",
        "print('\\n count\\t x\\t y\\t z\\n')\n",
        "\n",
        "condition = True\n",
        "while condition:\n",
        "   x1 = f1(x0,y0,z0)\n",
        "   y1 = f2(x0,y0,z0)\n",
        "   z1= f3(x0,y0,z0)\n",
        "   print('%d \\t %0.2f \\t%0.2f \\t%0.2f \\n' %(count,x1,y1,z1))\n",
        "   e1 = abs(x0-x1);\n",
        "   e2 = abs(y0-y1);\n",
        "   e3 = abs(z0-z1);\n",
        "\n",
        "   count += 1\n",
        "   x0 = x1\n",
        "   y0 = y1\n",
        "   z0 = z1\n",
        "\n",
        "   condition =  e1>e and e2>e and e3>e\n",
        "\n",
        "print('\\nsolution: x=%0.2f, y=%0.2f and z=%0.2f\\n'% (x1,y1,z1))\n",
        "\n"
      ],
      "metadata": {
        "colab": {
          "base_uri": "https://localhost:8080/"
        },
        "id": "6QZAbpj0rU1I",
        "outputId": "cf70ded9-d3c6-40c9-a777-2d491a659fa4"
      },
      "execution_count": null,
      "outputs": [
        {
          "output_type": "stream",
          "name": "stdout",
          "text": [
            "Enter tolerable error: 1\n",
            "\n",
            " count\t x\t y\t z\n",
            "\n",
            "1 \t 0.85 \t-0.90 \t1.25 \n",
            "\n",
            "\n",
            "solution: x=0.85, y=-0.90 and z=1.25\n",
            "\n"
          ]
        }
      ]
    }
  ]
}